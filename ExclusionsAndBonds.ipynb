{
 "cells": [
  {
   "cell_type": "code",
   "execution_count": 1,
   "id": "33b29093-5e33-4e74-8b2c-87207e3edf25",
   "metadata": {},
   "outputs": [],
   "source": [
    "#Imports\n",
    "\n",
    "import MDAnalysis as mda\n",
    "from MDAnalysis.analysis import distances\n",
    "from MDAnalysis.analysis import contacts\n",
    "\n",
    "import numpy as np\n",
    "import pandas as pd\n",
    "import matplotlib.pyplot as plt\n",
    "%matplotlib inline"
   ]
  },
  {
   "cell_type": "code",
   "execution_count": 2,
   "id": "5b75e53f-410a-4d54-8361-8a604a3c6bfd",
   "metadata": {},
   "outputs": [],
   "source": [
    "#Create Universe and lists\n",
    "\n",
    "tt = mda.Universe(\"md.tpr\",\"equilibration.gro\")\n",
    "FAD_lista = list(tt.atoms.types[901:923])\n",
    "proteína_lista = list(tt.atoms.types[0:901])"
   ]
  },
  {
   "cell_type": "code",
   "execution_count": 5,
   "id": "83bc195d-5035-4b5c-b86d-d4f1d0534bbf",
   "metadata": {},
   "outputs": [],
   "source": [
    "#Getting a list of lists with sigma values\n",
    "\n",
    "lista_de_listas = []\n",
    "\n",
    "for a in FAD_lista:\n",
    "    lista_pequena = []\n",
    "    for b in proteína_lista:\n",
    "        if a[0] == \"S\" and b[0] == \"S\":\n",
    "            lista_pequena.append(0.41)\n",
    "        elif (a[0] == \"S\" and b[0] == \"T\") or (a[0] == \"T\" and b[0] == \"S\"):\n",
    "            lista_pequena.append(0.365)\n",
    "        elif a[0] == \"T\" and b[0] == \"T\":\n",
    "            lista_pequena.append(0.34)\n",
    "        elif (a[0] != \"S\" and a[0] != \"T\") and (b[0] != \"S\" and b[0] != \"T\"):\n",
    "            lista_pequena.append(0.47)\n",
    "        elif (a[0] == \"S\" and (b[0] != \"S\" and b[0] != \"T\")) or ((a[0] != \"S\" and a[0] != \"T\") and b[0] == \"S\"):\n",
    "            lista_pequena.append(0.43)\n",
    "        elif (a[0] == \"T\" and (b[0] != \"S\" and b[0] != \"T\")) or ((a[0] != \"S\" and a[0] != \"T\") and b[0] == \"T\"):\n",
    "            lista_pequena.append(0.395)\n",
    "        else:\n",
    "            lista_pequena.append(0.0)\n",
    "    lista_de_listas.append(lista_pequena)\n",
    "    \n",
    "lista_array = np.array(lista_de_listas)            "
   ]
  },
  {
   "cell_type": "code",
   "execution_count": 7,
   "id": "29eac3c6-0fb1-4416-9227-3c841fe803a6",
   "metadata": {},
   "outputs": [],
   "source": [
    "#Creating the distances array that comes from the CG structure from Martinize2\n",
    "\n",
    "FAD = tt.select_atoms(\"resname FAD\")\n",
    "protein = tt.select_atoms(\"name BB SC1 SC2 SC3 SC4 SC5\")\n",
    "distância = mda.analysis.distances.distance_array(FAD.positions, protein.positions)"
   ]
  },
  {
   "cell_type": "code",
   "execution_count": 9,
   "id": "f8f016d8-b5a4-4ce7-b750-1e3a1d6224b2",
   "metadata": {},
   "outputs": [
    {
     "data": {
      "text/plain": [
       "(array([ 0,  0,  0,  0,  0,  0,  0,  0,  1,  1,  1,  1,  2,  2,  2,  2,  2,\n",
       "         3,  3,  3,  3,  3,  4,  4,  4,  5,  5,  5,  5,  5,  5,  5,  6,  6,\n",
       "         6,  6,  6,  6,  6,  7,  7,  7,  7,  7,  7,  8,  8,  8,  8,  9,  9,\n",
       "         9, 10, 10, 10, 10, 10, 10, 10, 11, 11, 11, 11, 11, 11, 11, 12, 12,\n",
       "        12, 12, 12, 13, 13, 14, 14, 14, 14, 14, 15, 15, 15, 15, 15, 16, 16,\n",
       "        16, 16, 17, 17, 17, 17, 17, 17, 17, 18, 18, 18, 18, 19, 19, 19, 19,\n",
       "        19, 20, 20, 20, 21, 21]),\n",
       " array([ 17,  73,  74,  75,  76,  77, 187, 246,  71,  73, 186, 187, 184,\n",
       "        186, 187, 188, 247, 184, 186, 187, 188, 605,  76,  77, 246,  73,\n",
       "         75,  76, 186, 187, 246, 247,  17,  18,  20,  74,  77, 245, 246,\n",
       "         17,  18,  73,  74,  75,  76,  20,  90,  93, 248,  20,  24, 248,\n",
       "         22,  24,  25,  99, 679, 712, 721,  24,  25,  99, 250, 710, 711,\n",
       "        712,  99, 382, 710, 711, 712, 382, 710, 712, 713, 714, 715, 717,\n",
       "        101, 715, 846, 853, 855, 100, 101, 389, 846, 100, 110, 111, 291,\n",
       "        383, 384, 389, 251, 291, 383, 384,  98,  99, 100, 382, 389, 100,\n",
       "        101, 382, 101, 715]))"
      ]
     },
     "execution_count": 9,
     "metadata": {},
     "output_type": "execute_result"
    }
   ],
   "source": [
    "#Distances below 0.5 nm from which we chose some to be bonds to keep FAD inside the structure (first array - FAD indexes, second array - protein indexes)\n",
    "\n",
    "np.where(distância <= 5.0)"
   ]
  },
  {
   "cell_type": "code",
   "execution_count": 11,
   "id": "4b4d7adf-976d-4847-9546-2311754495dc",
   "metadata": {},
   "outputs": [
    {
     "data": {
      "text/plain": [
       "(array([ 0,  0,  0,  1,  2,  2,  3,  4,  5,  6,  7,  7,  9, 10, 10, 11, 11,\n",
       "        16, 17, 18]),\n",
       " array([ 73,  74,  76, 187, 186, 187, 186,  76, 187, 246,  73,  74,  24,\n",
       "         24, 712,  99, 712, 100, 389, 384]))"
      ]
     },
     "execution_count": 11,
     "metadata": {},
     "output_type": "execute_result"
    }
   ],
   "source": [
    "#Distances below the sigma value that had to be excluded (in Angstrom units)\n",
    "\n",
    "np.where(lista_array >= distância/10)"
   ]
  }
 ],
 "metadata": {
  "kernelspec": {
   "display_name": "Python 3",
   "language": "python",
   "name": "python3"
  },
  "language_info": {
   "codemirror_mode": {
    "name": "ipython",
    "version": 3
   },
   "file_extension": ".py",
   "mimetype": "text/x-python",
   "name": "python",
   "nbconvert_exporter": "python",
   "pygments_lexer": "ipython3",
   "version": "3.6.9"
  }
 },
 "nbformat": 4,
 "nbformat_minor": 5
}
