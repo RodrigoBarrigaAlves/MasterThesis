{
 "cells": [
  {
   "cell_type": "code",
   "execution_count": 14,
   "metadata": {},
   "outputs": [],
   "source": [
    "#Imports\n",
    "\n",
    "import MDAnalysis as mda\n",
    "from MDAnalysis.analysis import contacts\n",
    "from MDAnalysis.analysis import distances\n",
    "import statistics\n",
    "\n",
    "import numpy as np\n",
    "import pandas as pd\n",
    "import matplotlib.pyplot as plt\n",
    "%matplotlib inline\n",
    "from tqdm import tqdm\n",
    "from pathlib import Path\n",
    "from scipy.stats import binned_statistic"
   ]
  },
  {
   "cell_type": "code",
   "execution_count": null,
   "metadata": {},
   "outputs": [],
   "source": [
    "#Calculate distances\n",
    "\n",
    "compounds_AB = [\"DMNFH\", \"DMNFQ\", \"HAQOH\", \"HAQO\", \"MNDOL\", \"MND\", \"UBQH\", \"UBQ0\", \"XQH2\", \"XQ\"]\n",
    "replicates = [\"rep_1\", \"rep_2\", \"rep_3\", \"rep_4\", \"rep_5\"]\n",
    "comps=[]\n",
    "compounds_replicates = []\n",
    "names_quinones = []\n",
    "for compound in compounds_AB:\n",
    "    print(compound)\n",
    "    reps = []\n",
    "    for replicate in replicates:\n",
    "        compoundpath = Path(f\"{compound}/{replicate}\")    \n",
    "        if not compoundpath.is_dir():\n",
    "            continue\n",
    "        print(replicate)\n",
    "        compounds_replicates.append(f\"{compound}, {replicate}\")\n",
    "        u = mda.Universe(str(compoundpath/\"equilibration.gro\"), str(compoundpath/\"traj_comp.xtc\"))\n",
    "        ISOALO = u.select_atoms(\"resname FAD and name B14 B15 B16 B17 B18 B19 B20 B21 B22\")\n",
    "        all_quinones = u.select_atoms(f\"resname {compound}\")\n",
    "        n_compounds = len(all_quinones.residues)\n",
    "        n_beads = int(len(all_quinones)/n_compounds)\n",
    "        traj_contacts= []\n",
    "        names_quinones.append(all_quinones.residues.resids)\n",
    "        for ts in tqdm(u.trajectory):\n",
    "            dists = distances.distance_array(all_quinones.positions, ISOALO.positions)\n",
    "            new_dists = dists.reshape(20,n_beads,-1)\n",
    "            ctx = new_dists < 6\n",
    "            for_frame = np.any(ctx, axis=(1,2))\n",
    "            traj_contacts.append(for_frame)\n",
    "        reps.append(traj_contacts)\n",
    "    comps.append(reps)"
   ]
  },
  {
   "cell_type": "code",
   "execution_count": 16,
   "metadata": {},
   "outputs": [],
   "source": [
    "#To save our results\n",
    "\n",
    "pd.to_pickle(comps, \"comps.obj\")"
   ]
  },
  {
   "cell_type": "code",
   "execution_count": null,
   "metadata": {},
   "outputs": [],
   "source": [
    "#Residence times\n",
    "\n",
    "compounds_residence_times = {}\n",
    "pb = tqdm(total=len(compounds_AB)*len(replicates))\n",
    "for compound_data, compound_name in zip(comps, compounds_AB):\n",
    "    reps_residence_times = []\n",
    "    for rep in compound_data:\n",
    "        pb.update()\n",
    "        contacts = np.array(rep).T.astype(int).copy()\n",
    "        max_index = contacts.shape[1]\n",
    "        events = np.diff(contacts, axis=1, prepend=0, append=0)\n",
    "        event_times = events.nonzero()[1]\n",
    "        #Label first and last frames events in a way that they yield negative residence times\n",
    "        event_times[event_times == 0] = max_index + 1\n",
    "        event_times[event_times == max_index] = -1\n",
    "        residence_times = np.diff(event_times)[::2]\n",
    "        residence_times = residence_times[residence_times > 0]\n",
    "        reps_residence_times.append(residence_times)\n",
    "    compounds_residence_times[compound_name] = np.concatenate(reps_residence_times)"
   ]
  },
  {
   "cell_type": "code",
   "execution_count": 19,
   "metadata": {},
   "outputs": [],
   "source": [
    "#To read our results\n",
    "\n",
    "comps = pd.read_pickle(\"comps.obj\")"
   ]
  },
  {
   "cell_type": "code",
   "execution_count": 20,
   "metadata": {},
   "outputs": [],
   "source": [
    "#Getting the sum of the several trajectories of each replicate for each substrate\n",
    "\n",
    "sums_compound = []\n",
    "for compound in comps:\n",
    "    sums_replicates = 0\n",
    "    for rep in compound:\n",
    "        sum_rep = len(rep)\n",
    "        sums_replicates+=sum_rep\n",
    "    sums_compound.append(sums_replicates*u.trajectory.dt*1e-3)"
   ]
  },
  {
   "cell_type": "code",
   "execution_count": null,
   "metadata": {},
   "outputs": [],
   "source": [
    "#Plot\n",
    "\n",
    "names_of_compounds = [\"DMNFH\", \"DMNFQ\", \"HAQOH\", \"HAQO\", \"MNDOL\", \"MND\", \"UBQH\", \"UBQ0\", \"XQH$_2$\", \"XQ\"]\n",
    "colors = [\"#4bacc6\", \"#f39517\", \"#4bacc6\", \"#f39517\", \"#4bacc6\", \"#f39517\", \"#4bacc6\", \"#f39517\", \"#4bacc6\", \"#f39517\"]\n",
    "\n",
    "dt = u.trajectory.dt*1e-3\n",
    "r = 2.1/0.9\n",
    "n = 10\n",
    "minimum = np.log(0.99*dt)\n",
    "maximum = np.log(0.99*dt*r**(n-1))\n",
    "bins = np.logspace(minimum,maximum,n)\n",
    "left_edges = bins[:-1]\n",
    "right_edges = bins[1:]\n",
    "mid_point = (left_edges*right_edges)**0.5\n",
    "\n",
    "fig, ax = plt.subplots()\n",
    "for axis in ['top','bottom','left','right']:\n",
    "    ax.spines[axis].set_linewidth(2)\n",
    "ax.tick_params(width=2, length=4)\n",
    "\n",
    "for each_compound, total_time in zip(compounds_residence_times, sums_compound):\n",
    "    rt = compounds_residence_times[each_compound]*u.trajectory.dt*1e-3\n",
    "    h = (binned_statistic(rt, rt,statistic=\"sum\",bins=bins)[0]/total_time)*100\n",
    "    plt.plot(mid_point, h, \".-\")\n",
    "    \n",
    "ax.set_yticklabels(np.arange(0, 14, 2), fontsize=14, weight='bold')    \n",
    "ax.set_xticklabels(np.logspace(-2, 4.5, 8), fontsize=14, weight='bold')  \n",
    "plt.xscale(\"log\")\n",
    "plt.legend(names_of_compounds, fontsize=13)\n",
    "plt.ylabel('Percentage of the different time events occurance (%)', fontsize=14, fontweight = \"bold\", labelpad=20)\n",
    "plt.xlabel(\"Time of each event (binding-unbinding) in nanoseconds (ns)\", fontsize=14, fontweight = \"bold\", labelpad=20)\n",
    "plt.title(\"Duration of each binding-unbinding event between NDH-2 \\n flavin's FAD ring with several different compounds\", fontsize=18, verticalalignment='center', fontweight = \"bold\", pad=30)\n",
    "figure = plt.gcf() # get current figure\n",
    "figure.set_size_inches(16, 12)\n",
    "plt.xlim((0.01, mid_point[-1]))\n",
    "plt.ylim((0, 12))\n",
    "plt.savefig(\"Times_of_residence.svg\", orientation=\"landscape\", quality=95, dpi = 100, bbox_inches=\"tight\")\n",
    "plt.show()"
   ]
  }
 ],
 "metadata": {
  "kernelspec": {
   "display_name": "Python 3 (ipykernel)",
   "language": "python",
   "name": "python3"
  },
  "language_info": {
   "codemirror_mode": {
    "name": "ipython",
    "version": 3
   },
   "file_extension": ".py",
   "mimetype": "text/x-python",
   "name": "python",
   "nbconvert_exporter": "python",
   "pygments_lexer": "ipython3",
   "version": "3.8.10"
  }
 },
 "nbformat": 4,
 "nbformat_minor": 4
}
