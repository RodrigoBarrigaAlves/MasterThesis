#After having a document (table.txt) with the corresponding GRO and PDB indexes...
#Open the FAD PDB file from NDH-2 with already hydrogens added and split it in lines

with open ("FAD_withH.pdb") as pdb:
    tudo_pdb = pdb.read()
lines_pdb = tudo_pdb.splitlines()
   
    
#Do the same for FAD.gro after conversion from PDB (from Avogadro) and take out the box dimensions  
with open ("h.gro") as gro:
    tudo_gro = gro.read()
lines_gro = tudo_gro.splitlines()
lines_gro.pop(-1)

#Open the table document
with open ("table.txt") as text:
    tudo_text = text.read()
lines_text = tudo_text.splitlines()
lines_text.pop(0)

#Set which lines will be from the FAD PDB file
pdb_linenos = set(range(1,len(lines_pdb)+1))

#Create a dictionary with PDB and GRO indexes, by making sure there's no repetitions
dicionário = dict()
for each_line in lines_text:
    g_val, p_val = each_line.split()
    g_val = int(g_val)
    p_val = int(p_val)
    if g_val not in dicionário:
        dicionário[g_val] = int(p_val)
    else:
        print(f"There's a repetition: {g_val}")
    
    try:
        pdb_linenos.remove(p_val)
    except KeyError:
        print(f"There's a repeated pdb line: {p_val}")
    
#Write a new PDB file, by stating which will be the new information to be added 
with open("FAD_new.pdb", "w") as out:          
    for i in range(3, len(lines_text)+3):
        print(lines_gro[i-1], lines_pdb[dicionário[i]-1])
        print(lines_pdb[dicionário[i]-1], file=out)
