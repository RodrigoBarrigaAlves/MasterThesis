{
 "cells": [
  {
   "cell_type": "code",
   "execution_count": null,
   "metadata": {},
   "outputs": [],
   "source": [
    "#Imports\n",
    "import MDAnalysis as mda\n",
    "from MDAnalysis.lib import transformations, mdamath\n",
    "import numpy as np"
   ]
  },
  {
   "cell_type": "code",
   "execution_count": null,
   "metadata": {},
   "outputs": [],
   "source": [
    "#Create the Universe and select the backbone of the protein\n",
    "protein = mda.Universe(\"protein.gro\")\n",
    "bbs = protein.select_atoms(\"name BB\")"
   ]
  },
  {
   "cell_type": "code",
   "execution_count": null,
   "metadata": {},
   "outputs": [],
   "source": [
    "#Vector (Valine:387 Tyrosine:45) to align protein with membrane \n",
    "vector = bbs[382].position - bbs[40].position"
   ]
  },
  {
   "cell_type": "code",
   "execution_count": null,
   "metadata": {},
   "outputs": [],
   "source": [
    "#Rotate NDH-2\n",
    "residues_FAD = protein.select_atoms(\"resname FAD\")\n",
    "FAD_cog = residues_FAD.center_of_geometry()\n",
    "angle = np.degrees(mdamath.angle(vector, [0,0,-1]))\n",
    "ax = transformations.rotaxis(vector, [0,0,-1])\n",
    "protein.atoms.rotateby(angle, ax, point=FAD_cog)"
   ]
  },
  {
   "cell_type": "code",
   "execution_count": null,
   "metadata": {
    "tags": []
   },
   "outputs": [],
   "source": [
    "#Discover the protein size and adjust it to fit into membrane's box\n",
    "min_z_protein = min(protein.atoms.positions[:,2])\n",
    "max_z_protein = max(protein.atoms.positions[:,2])\n",
    "\n",
    "lenprotein = max_z_protein - min_z_protein\n",
    "lenprotein = round(lenprotein)+3\n",
    "z_dimension = 30+40+10+lenprotein\n",
    "z_dimension"
   ]
  },
  {
   "cell_type": "code",
   "execution_count": null,
   "metadata": {},
   "outputs": [],
   "source": [
    "#Set up the new dimensions of protein's box and the protein itself to be right in the middle of the box (so that, then we just need to shift the protein to the top of the membrane using insane.py)\n",
    "#Discover the membrane dimensions, so that we can know the final dimensions of our box to simulate\n",
    "membrane = mda.Universe(\"membrane.gro\")\n",
    "protein.dimensions = [membrane.dimensions[0], membrane.dimensions[1], z_dimension + membrane.dimensions[2], 90, 90, 90]\n",
    "positions_z_protein = protein.atoms.positions[:,2]\n",
    "positions_z_protein += (z_dimension)/2+30\n",
    "protein.atoms.positions[:,2] = positions_z_protein\n",
    "protein.atoms.write(\"protein_newbox.gro\")"
   ]
  },
  {
   "cell_type": "code",
   "execution_count": null,
   "metadata": {},
   "outputs": [],
   "source": [
    "#We needed to shuffle the waters, in the new box, after solvation - protein_solvated.gro\n",
    "protein_solvated = mda.Universe(\"protein_solvated.gro\")\n",
    "W = protein_solvated.select_atoms(\"name W\")\n",
    "water = W.positions\n",
    "np.random.shuffle(water)\n",
    "W.positions = water"
   ]
  },
  {
   "cell_type": "code",
   "execution_count": null,
   "metadata": {},
   "outputs": [],
   "source": [
    "#We, then, added the protein into the membrane using insane.py"
   ]
  }
 ],
 "metadata": {
  "kernelspec": {
   "display_name": "Python 3 (ipykernel)",
   "language": "python",
   "name": "python3"
  },
  "language_info": {
   "codemirror_mode": {
    "name": "ipython",
    "version": 3
   },
   "file_extension": ".py",
   "mimetype": "text/x-python",
   "name": "python",
   "nbconvert_exporter": "python",
   "pygments_lexer": "ipython3",
   "version": "3.8.10"
  }
 },
 "nbformat": 4,
 "nbformat_minor": 4
}
