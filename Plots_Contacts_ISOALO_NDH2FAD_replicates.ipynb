{
 "cells": [
  {
   "cell_type": "code",
   "execution_count": 10,
   "metadata": {},
   "outputs": [],
   "source": [
    "#Imports\n",
    "\n",
    "import MDAnalysis as mda\n",
    "from MDAnalysis.analysis import contacts\n",
    "from MDAnalysis.analysis import distances\n",
    "import statistics\n",
    "\n",
    "import numpy as np\n",
    "import pandas as pd\n",
    "import matplotlib.pyplot as plt\n",
    "%matplotlib inline\n",
    "from tqdm import tqdm\n",
    "from pathlib import Path"
   ]
  },
  {
   "cell_type": "code",
   "execution_count": 11,
   "metadata": {},
   "outputs": [],
   "source": [
    "#Function to find contacts\n",
    "\n",
    "compounds_AB = [\"DMNFH\", \"DMNFQ\", \"HAQOH\", \"HAQO\", \"MNDOL\", \"MND\", \"UBQH\", \"UBQ0\", \"XQH2\", \"XQ\"]\n",
    "replicates = [\"rep_1\", \"rep_2\", \"rep_3\", \"rep_4\", \"rep_5\"]\n",
    "\n",
    "def contacts_within_cutoff(u, group_a, group_b, radius=6.0):\n",
    "    timeseries = []\n",
    "    for ts in tqdm(u.trajectory):\n",
    "        # calculate distances between group_a and group_b\n",
    "        dist = contacts.distance_array(group_a.positions, group_b.positions)\n",
    "        # determine which distances <= radius\n",
    "        n_contacts = contacts.contact_matrix(dist, radius)\n",
    "        n_contacts_sum = n_contacts.sum()\n",
    "        # ts.frame*utrajectory.dt = tempo de cada step \n",
    "        timeseries.append([ts.frame, n_contacts_sum])\n",
    "    return np.array(timeseries), np.array(n_contacts)"
   ]
  },
  {
   "cell_type": "code",
   "execution_count": 12,
   "metadata": {},
   "outputs": [
    {
     "name": "stdout",
     "output_type": "stream",
     "text": [
      "DMNFH\n",
      "rep_1\n"
     ]
    },
    {
     "name": "stderr",
     "output_type": "stream",
     "text": [
      "100%|██████████| 70806/70806 [04:31<00:00, 260.68it/s]\n"
     ]
    },
    {
     "name": "stdout",
     "output_type": "stream",
     "text": [
      "rep_2\n"
     ]
    },
    {
     "name": "stderr",
     "output_type": "stream",
     "text": [
      "100%|██████████| 70764/70764 [04:42<00:00, 250.89it/s]\n"
     ]
    },
    {
     "name": "stdout",
     "output_type": "stream",
     "text": [
      "rep_3\n"
     ]
    },
    {
     "name": "stderr",
     "output_type": "stream",
     "text": [
      "100%|██████████| 70970/70970 [04:48<00:00, 246.14it/s]\n"
     ]
    },
    {
     "name": "stdout",
     "output_type": "stream",
     "text": [
      "rep_4\n"
     ]
    },
    {
     "name": "stderr",
     "output_type": "stream",
     "text": [
      "100%|██████████| 70845/70845 [04:30<00:00, 261.84it/s]\n"
     ]
    },
    {
     "name": "stdout",
     "output_type": "stream",
     "text": [
      "rep_5\n"
     ]
    },
    {
     "name": "stderr",
     "output_type": "stream",
     "text": [
      "100%|██████████| 70863/70863 [04:30<00:00, 261.98it/s]\n"
     ]
    },
    {
     "name": "stdout",
     "output_type": "stream",
     "text": [
      "DMNFQ\n",
      "rep_1\n"
     ]
    },
    {
     "name": "stderr",
     "output_type": "stream",
     "text": [
      "100%|██████████| 64582/64582 [04:14<00:00, 254.23it/s]\n"
     ]
    },
    {
     "name": "stdout",
     "output_type": "stream",
     "text": [
      "rep_2\n"
     ]
    },
    {
     "name": "stderr",
     "output_type": "stream",
     "text": [
      "100%|██████████| 70536/70536 [04:49<00:00, 243.62it/s]\n"
     ]
    },
    {
     "name": "stdout",
     "output_type": "stream",
     "text": [
      "rep_3\n"
     ]
    },
    {
     "name": "stderr",
     "output_type": "stream",
     "text": [
      "100%|██████████| 64900/64900 [04:20<00:00, 248.99it/s]\n"
     ]
    },
    {
     "name": "stdout",
     "output_type": "stream",
     "text": [
      "rep_4\n"
     ]
    },
    {
     "name": "stderr",
     "output_type": "stream",
     "text": [
      "100%|██████████| 70021/70021 [04:56<00:00, 236.17it/s]\n"
     ]
    },
    {
     "name": "stdout",
     "output_type": "stream",
     "text": [
      "rep_5\n"
     ]
    },
    {
     "name": "stderr",
     "output_type": "stream",
     "text": [
      "100%|██████████| 70797/70797 [05:15<00:00, 224.08it/s]\n"
     ]
    },
    {
     "name": "stdout",
     "output_type": "stream",
     "text": [
      "HAQOH\n",
      "rep_1\n"
     ]
    },
    {
     "name": "stderr",
     "output_type": "stream",
     "text": [
      "100%|██████████| 71265/71265 [04:40<00:00, 254.33it/s]\n"
     ]
    },
    {
     "name": "stdout",
     "output_type": "stream",
     "text": [
      "rep_2\n"
     ]
    },
    {
     "name": "stderr",
     "output_type": "stream",
     "text": [
      "100%|██████████| 57618/57618 [03:37<00:00, 265.33it/s]\n"
     ]
    },
    {
     "name": "stdout",
     "output_type": "stream",
     "text": [
      "rep_3\n"
     ]
    },
    {
     "name": "stderr",
     "output_type": "stream",
     "text": [
      "100%|██████████| 70472/70472 [04:40<00:00, 251.46it/s]\n"
     ]
    },
    {
     "name": "stdout",
     "output_type": "stream",
     "text": [
      "rep_4\n"
     ]
    },
    {
     "name": "stderr",
     "output_type": "stream",
     "text": [
      "100%|██████████| 70384/70384 [04:39<00:00, 251.38it/s]\n"
     ]
    },
    {
     "name": "stdout",
     "output_type": "stream",
     "text": [
      "rep_5\n"
     ]
    },
    {
     "name": "stderr",
     "output_type": "stream",
     "text": [
      "100%|██████████| 62270/62270 [04:03<00:00, 255.79it/s]\n"
     ]
    },
    {
     "name": "stdout",
     "output_type": "stream",
     "text": [
      "HAQO\n",
      "rep_1\n"
     ]
    },
    {
     "name": "stderr",
     "output_type": "stream",
     "text": [
      "100%|██████████| 70524/70524 [04:19<00:00, 272.05it/s]\n"
     ]
    },
    {
     "name": "stdout",
     "output_type": "stream",
     "text": [
      "rep_2\n"
     ]
    },
    {
     "name": "stderr",
     "output_type": "stream",
     "text": [
      "100%|██████████| 70776/70776 [04:25<00:00, 266.36it/s]\n"
     ]
    },
    {
     "name": "stdout",
     "output_type": "stream",
     "text": [
      "rep_3\n"
     ]
    },
    {
     "name": "stderr",
     "output_type": "stream",
     "text": [
      "100%|██████████| 58799/58799 [03:45<00:00, 260.46it/s]\n"
     ]
    },
    {
     "name": "stdout",
     "output_type": "stream",
     "text": [
      "rep_4\n"
     ]
    },
    {
     "name": "stderr",
     "output_type": "stream",
     "text": [
      "100%|██████████| 70726/70726 [04:32<00:00, 259.18it/s]\n"
     ]
    },
    {
     "name": "stdout",
     "output_type": "stream",
     "text": [
      "rep_5\n"
     ]
    },
    {
     "name": "stderr",
     "output_type": "stream",
     "text": [
      "100%|██████████| 70733/70733 [04:22<00:00, 269.10it/s]\n"
     ]
    },
    {
     "name": "stdout",
     "output_type": "stream",
     "text": [
      "MNDOL\n",
      "rep_1\n"
     ]
    },
    {
     "name": "stderr",
     "output_type": "stream",
     "text": [
      "100%|██████████| 68655/68655 [03:54<00:00, 292.72it/s]\n"
     ]
    },
    {
     "name": "stdout",
     "output_type": "stream",
     "text": [
      "rep_2\n"
     ]
    },
    {
     "name": "stderr",
     "output_type": "stream",
     "text": [
      "100%|██████████| 66836/66836 [04:38<00:00, 240.39it/s]\n"
     ]
    },
    {
     "name": "stdout",
     "output_type": "stream",
     "text": [
      "rep_3\n"
     ]
    },
    {
     "name": "stderr",
     "output_type": "stream",
     "text": [
      "100%|██████████| 70326/70326 [04:55<00:00, 238.39it/s]\n"
     ]
    },
    {
     "name": "stdout",
     "output_type": "stream",
     "text": [
      "rep_4\n"
     ]
    },
    {
     "name": "stderr",
     "output_type": "stream",
     "text": [
      "100%|██████████| 70740/70740 [04:59<00:00, 236.55it/s]\n"
     ]
    },
    {
     "name": "stdout",
     "output_type": "stream",
     "text": [
      "rep_5\n"
     ]
    },
    {
     "name": "stderr",
     "output_type": "stream",
     "text": [
      "100%|██████████| 70179/70179 [04:45<00:00, 246.04it/s]\n"
     ]
    },
    {
     "name": "stdout",
     "output_type": "stream",
     "text": [
      "MND\n",
      "rep_1\n"
     ]
    },
    {
     "name": "stderr",
     "output_type": "stream",
     "text": [
      "100%|██████████| 205728/205728 [12:45<00:00, 268.59it/s]\n"
     ]
    },
    {
     "name": "stdout",
     "output_type": "stream",
     "text": [
      "rep_2\n"
     ]
    },
    {
     "name": "stderr",
     "output_type": "stream",
     "text": [
      "100%|██████████| 211308/211308 [13:13<00:00, 266.14it/s]\n"
     ]
    },
    {
     "name": "stdout",
     "output_type": "stream",
     "text": [
      "rep_3\n"
     ]
    },
    {
     "name": "stderr",
     "output_type": "stream",
     "text": [
      "100%|██████████| 202537/202537 [12:51<00:00, 262.66it/s]\n"
     ]
    },
    {
     "name": "stdout",
     "output_type": "stream",
     "text": [
      "rep_4\n"
     ]
    },
    {
     "name": "stderr",
     "output_type": "stream",
     "text": [
      "100%|██████████| 201348/201348 [12:48<00:00, 262.17it/s]\n"
     ]
    },
    {
     "name": "stdout",
     "output_type": "stream",
     "text": [
      "rep_5\n"
     ]
    },
    {
     "name": "stderr",
     "output_type": "stream",
     "text": [
      "100%|██████████| 198911/198911 [12:39<00:00, 261.90it/s]\n"
     ]
    },
    {
     "name": "stdout",
     "output_type": "stream",
     "text": [
      "UBQH\n",
      "rep_1\n"
     ]
    },
    {
     "name": "stderr",
     "output_type": "stream",
     "text": [
      "100%|██████████| 71020/71020 [04:29<00:00, 263.46it/s]\n"
     ]
    },
    {
     "name": "stdout",
     "output_type": "stream",
     "text": [
      "rep_2\n"
     ]
    },
    {
     "name": "stderr",
     "output_type": "stream",
     "text": [
      "100%|██████████| 59002/59002 [03:52<00:00, 253.79it/s]\n"
     ]
    },
    {
     "name": "stdout",
     "output_type": "stream",
     "text": [
      "rep_3\n"
     ]
    },
    {
     "name": "stderr",
     "output_type": "stream",
     "text": [
      "100%|██████████| 58568/58568 [04:04<00:00, 239.15it/s]\n"
     ]
    },
    {
     "name": "stdout",
     "output_type": "stream",
     "text": [
      "rep_4\n"
     ]
    },
    {
     "name": "stderr",
     "output_type": "stream",
     "text": [
      "100%|██████████| 70838/70838 [04:39<00:00, 253.01it/s]\n"
     ]
    },
    {
     "name": "stdout",
     "output_type": "stream",
     "text": [
      "rep_5\n"
     ]
    },
    {
     "name": "stderr",
     "output_type": "stream",
     "text": [
      "100%|██████████| 60279/60279 [03:57<00:00, 253.41it/s]\n"
     ]
    },
    {
     "name": "stdout",
     "output_type": "stream",
     "text": [
      "UBQ0\n",
      "rep_1\n"
     ]
    },
    {
     "name": "stderr",
     "output_type": "stream",
     "text": [
      "100%|██████████| 70848/70848 [04:40<00:00, 252.17it/s]\n"
     ]
    },
    {
     "name": "stdout",
     "output_type": "stream",
     "text": [
      "rep_2\n"
     ]
    },
    {
     "name": "stderr",
     "output_type": "stream",
     "text": [
      "100%|██████████| 70535/70535 [04:30<00:00, 261.13it/s]\n"
     ]
    },
    {
     "name": "stdout",
     "output_type": "stream",
     "text": [
      "rep_3\n"
     ]
    },
    {
     "name": "stderr",
     "output_type": "stream",
     "text": [
      "100%|██████████| 66715/66715 [04:29<00:00, 247.20it/s]\n"
     ]
    },
    {
     "name": "stdout",
     "output_type": "stream",
     "text": [
      "rep_4\n"
     ]
    },
    {
     "name": "stderr",
     "output_type": "stream",
     "text": [
      "100%|██████████| 68833/68833 [04:18<00:00, 266.51it/s]\n"
     ]
    },
    {
     "name": "stdout",
     "output_type": "stream",
     "text": [
      "rep_5\n"
     ]
    },
    {
     "name": "stderr",
     "output_type": "stream",
     "text": [
      "100%|██████████| 67004/67004 [04:06<00:00, 271.81it/s]\n"
     ]
    },
    {
     "name": "stdout",
     "output_type": "stream",
     "text": [
      "XQH2\n",
      "rep_1\n"
     ]
    },
    {
     "name": "stderr",
     "output_type": "stream",
     "text": [
      "100%|██████████| 70105/70105 [04:34<00:00, 255.22it/s]\n"
     ]
    },
    {
     "name": "stdout",
     "output_type": "stream",
     "text": [
      "rep_2\n"
     ]
    },
    {
     "name": "stderr",
     "output_type": "stream",
     "text": [
      "100%|██████████| 59514/59514 [03:55<00:00, 252.45it/s]\n"
     ]
    },
    {
     "name": "stdout",
     "output_type": "stream",
     "text": [
      "rep_3\n"
     ]
    },
    {
     "name": "stderr",
     "output_type": "stream",
     "text": [
      "100%|██████████| 68903/68903 [04:32<00:00, 252.57it/s]\n"
     ]
    },
    {
     "name": "stdout",
     "output_type": "stream",
     "text": [
      "rep_4\n"
     ]
    },
    {
     "name": "stderr",
     "output_type": "stream",
     "text": [
      "100%|██████████| 71548/71548 [04:51<00:00, 245.17it/s]\n"
     ]
    },
    {
     "name": "stdout",
     "output_type": "stream",
     "text": [
      "rep_5\n"
     ]
    },
    {
     "name": "stderr",
     "output_type": "stream",
     "text": [
      "100%|██████████| 69988/69988 [04:27<00:00, 262.00it/s]\n"
     ]
    },
    {
     "name": "stdout",
     "output_type": "stream",
     "text": [
      "XQ\n",
      "rep_1\n"
     ]
    },
    {
     "name": "stderr",
     "output_type": "stream",
     "text": [
      "100%|██████████| 199983/199983 [12:01<00:00, 277.34it/s]\n"
     ]
    },
    {
     "name": "stdout",
     "output_type": "stream",
     "text": [
      "rep_2\n"
     ]
    },
    {
     "name": "stderr",
     "output_type": "stream",
     "text": [
      "100%|██████████| 199932/199932 [12:40<00:00, 263.04it/s]\n"
     ]
    },
    {
     "name": "stdout",
     "output_type": "stream",
     "text": [
      "rep_3\n"
     ]
    },
    {
     "name": "stderr",
     "output_type": "stream",
     "text": [
      "100%|██████████| 141240/141240 [08:11<00:00, 287.57it/s]\n"
     ]
    },
    {
     "name": "stdout",
     "output_type": "stream",
     "text": [
      "rep_4\n"
     ]
    },
    {
     "name": "stderr",
     "output_type": "stream",
     "text": [
      "100%|██████████| 208343/208343 [12:58<00:00, 267.69it/s]\n"
     ]
    },
    {
     "name": "stdout",
     "output_type": "stream",
     "text": [
      "rep_5\n"
     ]
    },
    {
     "name": "stderr",
     "output_type": "stream",
     "text": [
      "100%|██████████| 202449/202449 [12:45<00:00, 264.36it/s]\n"
     ]
    }
   ],
   "source": [
    "#Entering into each folder to create the Universe and normalise the number of contacts - 1 per frame maximum\n",
    "\n",
    "frames = {}\n",
    "contactstotal = {}\n",
    "contact_normalised = {}\n",
    "contact_average_compound = {}\n",
    "standard_deviation_compound = {}\n",
    "\n",
    "#base_path = Path(\".\")\n",
    "for compound in compounds_AB:\n",
    "    reps = {}\n",
    "    cts = {}\n",
    "    normalisation = {}\n",
    "    print(compound)\n",
    "    for replicate in replicates:\n",
    "        compoundpath = Path(f\"{compound}/{replicate}\")    \n",
    "        if not compoundpath.is_dir():\n",
    "            continue\n",
    "        print(replicate)\n",
    "        u = mda.Universe(str(compoundpath/\"equilibration.gro\"), str(compoundpath/\"traj_comp.xtc\"))\n",
    "        ISOALO = u.select_atoms(\"resname FAD and name B14 B15 B16 B17 B18 B19 B20 B21 B22\")\n",
    "        test = u.select_atoms(f\"resname {compound}\")\n",
    "        reps[replicate] = len(u.trajectory)\n",
    "        function = contacts_within_cutoff(u, ISOALO, test)\n",
    "        cts[replicate] = np.count_nonzero(function[0][:,1])\n",
    "        normalisation[replicate] = (cts[replicate]/reps[replicate])*100\n",
    "\n",
    "        \n",
    "    frames[compound] = reps  #len(u.trajectory) = número de frames\n",
    "    contactstotal[compound] = cts\n",
    "    contact_normalised[compound] = normalisation\n",
    "        \n",
    "    contact_average_compound[compound] = statistics.mean([x for x in normalisation.values()])\n",
    "    standard_deviation_compound[compound] = statistics.stdev([x for x in normalisation.values()])   "
   ]
  },
  {
   "cell_type": "code",
   "execution_count": 18,
   "metadata": {},
   "outputs": [
    {
     "data": {
      "image/png": "[encoded data removed]",
      "text/plain": [
       "<Figure size 576x432 with 1 Axes>"
      ]
     },
     "metadata": {
      "needs_background": "light"
     },
     "output_type": "display_data"
    }
   ],
   "source": [
    "#Create the plot\n",
    "\n",
    "replicate_values = []\n",
    "for values in contact_normalised.values():\n",
    "    replicate_values.append(values)\n",
    "\n",
    "colors = [\"#4bacc6\", \"#f39517\"]\n",
    "\n",
    "old_colors = [[C]*5 for C in colors]*5\n",
    "colors_new = []\n",
    "for i in old_colors:\n",
    "     colors_new.extend(i)\n",
    "\n",
    "compounds = [\"2,3-Dimethyl-1,4-dihydronaphthalene-1,4-diol (DMNFH - menaquinol analog)\",\n",
    "             \"2,3-Dimethyl-1,4-naphthoquinone (DMNFQ - menaquinone analog)\", \n",
    "             \"1-hydroxy-$4H$-quinolin-4-ol (HQNOH - NDH'2 inhibitor - alcohol head form)\", \n",
    "             \"4-Hydroxyquinoline 1-oxide (HQNO - NDH-2's inhibitor - ketone head form)\", \n",
    "             \"Menadiol (MNDOL - menaquinol's head)\", \n",
    "             \"Menadione (MND - menaquinone's head)\", \n",
    "             \"2,3-dimethoxy-5-methylcyclohexa-2,5-diene-1,4-diol (UBQH - ubiquinol's head)\", \n",
    "             \"Ubiquinone-0 (UBQ-0 - ubiquinone's head)\", \n",
    "             \"2,3-dimethylcyclohexa-2,5-diene-1,4-diol (PQH$_2$ - plastoquinol's head)\", \n",
    "             \"$o$-Xyloquinone (PQ - plastoquinone's head)\"]\n",
    "\n",
    "compoundsQH2 = compounds[::2]\n",
    "compoundsQ = compounds[1::2]\n",
    "replicate_values_QH2 = replicate_values[::2]\n",
    "replicate_values_Q = replicate_values[1::2]\n",
    "\n",
    "yQH2 = []\n",
    "yQ = []\n",
    "ys = []\n",
    "colorQ = \"#f39517\"\n",
    "colorQH2 = \"#4bacc6\"\n",
    "labels = [\"Quinols replicates\",\"Quinones replicates\"]\n",
    "\n",
    "for pos in range(len(compoundsQH2)):\n",
    "    yQ.append(pos+0.2)\n",
    "    yQH2.append(pos-0.2)\n",
    "    ys.extend((yQH2[-1], yQ[-1]))\n",
    "    \n",
    "fig, ax = plt.subplots(figsize=(8,6))\n",
    "\n",
    "x=replicate_values\n",
    "\n",
    "old_y = [[C]*5 for C in ys]\n",
    "y = []\n",
    "for i in old_y:\n",
    "    y.extend(i)\n",
    "    \n",
    "old_yQ = [[C]*5 for C in yQ]\n",
    "yQ_new = []\n",
    "for i in old_yQ:\n",
    "    yQ_new.extend(i)\n",
    "\n",
    "old_yQH2 = [[C]*5 for C in yQH2]\n",
    "yQH2_new = []\n",
    "for i in old_yQH2:\n",
    "    yQH2_new.extend(i)\n",
    "\n",
    "x_to_plot = [item for sub_dict in contact_normalised.values() for item in sub_dict.values()]\n",
    "x_even = [item for ix, sub_dict in enumerate(contact_normalised.values()) for item in sub_dict.values() if ix%2==0]\n",
    "x_odd = [item for ix, sub_dict in enumerate(contact_normalised.values()) for item in sub_dict.values() if ix%2!=0]\n",
    "\n",
    "for axis in ['top','bottom','left','right']:\n",
    "    ax.spines[axis].set_linewidth(2)\n",
    "ax.tick_params(width=2, length=4)\n",
    "\n",
    "line1 = ax.scatter(x=x_even, y=yQ_new, color=colorQ, label=\"Quinones replicates\")\n",
    "line2 = ax.scatter(x=x_odd, y=yQH2_new, color=colorQH2, label=\"Quinols replicates\")\n",
    "ax.set_yticks(ys)\n",
    "ax.set_yticklabels(compounds, fontsize=14)\n",
    "ax.set_xticklabels(np.arange(0,120, 20), fontsize=14, fontweight=\"bold\")\n",
    "ax.set_ylabel('Substrates', fontsize=14, fontweight = \"bold\")\n",
    "ax.set_xlabel(\"Percentage of frames with contacts (%)\", fontsize=14, fontweight = \"bold\", labelpad=30)\n",
    "ax.set_title(\"Percentage of frames with contacts (%) between NDH-2 \\n flavin's FAD ring with several different compounds\", fontsize=18, verticalalignment='center', fontweight = \"bold\", pad = \"30.0\")\n",
    "ax.legend(handles=[line1, line2], loc=\"upper right\", fontsize=13)\n",
    "ax.set_xlim((0, 100))\n",
    "\n",
    "plt.savefig(\"FAD_FLAVIN_contacts.svg\", orientation=\"landscape\", quality=95, dpi = 100, bbox_inches=\"tight\")\n",
    "plt.show()"
   ]
  },
  {
   "cell_type": "code",
   "execution_count": null,
   "metadata": {},
   "outputs": [],
   "source": []
  }
 ],
 "metadata": {
  "kernelspec": {
   "display_name": "Python 3 (ipykernel)",
   "language": "python",
   "name": "python3"
  },
  "language_info": {
   "codemirror_mode": {
    "name": "ipython",
    "version": 3
   },
   "file_extension": ".py",
   "mimetype": "text/x-python",
   "name": "python",
   "nbconvert_exporter": "python",
   "pygments_lexer": "ipython3",
   "version": "3.8.10"
  }
 },
 "nbformat": 4,
 "nbformat_minor": 4
}
