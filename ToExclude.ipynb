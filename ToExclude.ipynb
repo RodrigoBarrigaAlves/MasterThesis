{
 "cells": [
  {
   "cell_type": "code",
   "execution_count": null,
   "metadata": {},
   "outputs": [],
   "source": [
    "#Imports\n",
    "import MDAnalysis as mda\n",
    "from MDAnalysis.analysis import distances\n",
    "from MDAnalysis.analysis import contacts\n",
    "\n",
    "import numpy as np\n",
    "import pandas as pd\n",
    "import matplotlib.pyplot as plt\n",
    "%matplotlib inline"
   ]
  },
  {
   "cell_type": "code",
   "execution_count": null,
   "metadata": {},
   "outputs": [],
   "source": [
    "#Create Universe and lists\n",
    "tt = mda.Universe(\"minimization.tpr\",\"5NA1andFADwithbox.gro\")\n",
    "FAD_lista = list(tt.atoms.types[901:923])\n",
    "proteína_lista = list(tt.atoms.types[0:901])"
   ]
  },
  {
   "cell_type": "code",
   "execution_count": null,
   "metadata": {},
   "outputs": [],
   "source": [
    "#Getting a list of lists with each interaction sigma\n",
    "lista_de_listas = []\n",
    "\n",
    "for a in FAD_lista:\n",
    "    lista_pequena = []\n",
    "    for b in proteína_lista:\n",
    "        if a[0] == \"S\" and b[0] == \"S\":\n",
    "            lista_pequena.append(0.41)\n",
    "        elif (a[0] == \"S\" and b[0] == \"T\") or (a[0] == \"T\" and b[0] == \"S\"):\n",
    "            lista_pequena.append(0.365)\n",
    "        elif a[0] == \"T\" and b[0] == \"T\":\n",
    "            lista_pequena.append(0.34)\n",
    "        elif (a[0] != \"S\" and a[0] != \"T\") and (b[0] != \"S\" and b[0] != \"T\"):\n",
    "            lista_pequena.append(0.47)\n",
    "        elif (a[0] == \"S\" and (b[0] != \"S\" and b[0] != \"T\")) or ((a[0] != \"S\" and a[0] != \"T\") and b[0] == \"S\"):\n",
    "            lista_pequena.append(0.43)\n",
    "        elif (a[0] == \"T\" and (b[0] != \"S\" and b[0] != \"T\")) or ((a[0] != \"S\" and a[0] != \"T\") and b[0] == \"T\"):\n",
    "            lista_pequena.append(0.395)\n",
    "        else:\n",
    "            lista_pequena.append(0.0)\n",
    "    lista_de_listas.append(lista_pequena)"
   ]
  },
  {
   "cell_type": "code",
   "execution_count": null,
   "metadata": {},
   "outputs": [],
   "source": [
    "#List with values X10 (in angstrom)\n",
    "lista_array = np.array(lista_de_listas)\n",
    "lista_array_A = 10*lista_array"
   ]
  },
  {
   "cell_type": "code",
   "execution_count": null,
   "metadata": {},
   "outputs": [],
   "source": [
    "#Display the indexes whose distances are below 5 angstrom\n",
    "FAD = tt.select_atoms(\"resname FAD\")\n",
    "protein = tt.select_atoms(\"name BB SC1 SC2 SC3 SC4 SC5\")\n",
    "distância = mda.analysis.distances.distance_array(FAD.positions, protein.positions)\n",
    "distância_menor_que_5 = np.where(distância <= 5.0)\n",
    "lista = list(distância_menor_que_5)\n",
    "a = lista[0] + 901\n",
    "b = lista[1] + 1\n",
    "np.c_[b,a]"
   ]
  },
  {
   "cell_type": "code",
   "execution_count": null,
   "metadata": {},
   "outputs": [],
   "source": [
    "#Display the indexes whose distances are below sigma\n",
    "np.where(lista_array_A >= distância)"
   ]
  }
 ],
 "metadata": {
  "kernelspec": {
   "display_name": "Python 3 (ipykernel)",
   "language": "python",
   "name": "python3"
  },
  "language_info": {
   "codemirror_mode": {
    "name": "ipython",
    "version": 3
   },
   "file_extension": ".py",
   "mimetype": "text/x-python",
   "name": "python",
   "nbconvert_exporter": "python",
   "pygments_lexer": "ipython3",
   "version": "3.8.10"
  }
 },
 "nbformat": 4,
 "nbformat_minor": 4
}
